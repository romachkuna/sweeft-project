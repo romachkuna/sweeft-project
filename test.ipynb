{
 "cells": [
  {
   "cell_type": "code",
   "execution_count": 1,
   "id": "initial_id",
   "metadata": {
    "collapsed": true,
    "ExecuteTime": {
     "end_time": "2024-04-02T21:19:05.606418200Z",
     "start_time": "2024-04-02T21:19:04.953360400Z"
    }
   },
   "outputs": [
    {
     "name": "stdout",
     "output_type": "stream",
     "text": [
      "0    NOT FOUND\n",
      "Name: description, dtype: object\n"
     ]
    }
   ],
   "source": [
    "from utils import *\n",
    "df = construct_df_from_json()\n",
    "drop_unnecessary_columns(df,[\"collection\",\"name\",\"twitter_username\",\"contracts\",\"description\",\"owner\",\"image_url\"])\n",
    "replace_all_whitespace(df)\n",
    "print(df.head(1).description)"
   ]
  },
  {
   "cell_type": "code",
   "execution_count": null,
   "outputs": [],
   "source": [],
   "metadata": {
    "collapsed": false
   },
   "id": "9074c3dcafe8f431"
  }
 ],
 "metadata": {
  "kernelspec": {
   "display_name": "Python 3",
   "language": "python",
   "name": "python3"
  },
  "language_info": {
   "codemirror_mode": {
    "name": "ipython",
    "version": 2
   },
   "file_extension": ".py",
   "mimetype": "text/x-python",
   "name": "python",
   "nbconvert_exporter": "python",
   "pygments_lexer": "ipython2",
   "version": "2.7.6"
  }
 },
 "nbformat": 4,
 "nbformat_minor": 5
}
