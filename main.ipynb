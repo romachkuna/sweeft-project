{
 "cells": [
  {
   "cell_type": "markdown",
   "source": [
    "getting the data from api"
   ],
   "metadata": {
    "collapsed": false
   },
   "id": "ac93b18cbfc6bb63"
  },
  {
   "cell_type": "code",
   "execution_count": null,
   "outputs": [],
   "source": [
    "from utils import *\n",
    "from orm import *"
   ],
   "metadata": {
    "collapsed": false
   },
   "id": "db56ba8341436923"
  },
  {
   "cell_type": "code",
   "execution_count": null,
   "outputs": [],
   "source": [
    "headers = {\n",
    "    \"accept\": \"application/json\",\n",
    "    \"x-api-key\": \"74236956836e4336b836845ae04c25f6\"\n",
    "}\n",
    "response = make_call_to_api(headers)\n",
    "\n",
    "df = save_response_to_pandas_df(response)"
   ],
   "metadata": {
    "collapsed": false
   },
   "id": "d08df77c368a237f"
  },
  {
   "cell_type": "code",
   "execution_count": null,
   "outputs": [],
   "source": [
    "df = drop_unnecessary_columns(df,[\"collection\",\"name\",\"twitter_username\",\"contracts\",\"description\",\"owner\",\"image_url\"])\n",
    "replace_all_whitespace(df)"
   ],
   "metadata": {
    "collapsed": false
   },
   "id": "4ff7eae1f53742ea"
  },
  {
   "cell_type": "code",
   "execution_count": null,
   "outputs": [],
   "source": [
    "data = prepare_data_for_orm(df)\n",
    "#initialize database\n",
    "db = Database(\n",
    "    host=\"localhost\",\n",
    "    user=\"root\",\n",
    "    password=\"romaroma\",\n",
    "    database=\"sweeft\"\n",
    ")\n",
    "db.create_schema()"
   ],
   "metadata": {
    "collapsed": false
   },
   "id": "c3dea66f6a099bd5"
  },
  {
   "cell_type": "code",
   "execution_count": null,
   "outputs": [],
   "source": [
    "#insert into the database\n",
    "db.insert_data(data)"
   ],
   "metadata": {
    "collapsed": false
   },
   "id": "3b1ba9fe722af68d"
  },
  {
   "cell_type": "code",
   "execution_count": null,
   "outputs": [],
   "source": [
    "#querying the table\n",
    "query_result = db.retrieve_table_data(\"collections\",limit=10,LIKE=(\"name\",'%Suika%'),order_by=\"id\")\n",
    "print(query_result)"
   ],
   "metadata": {
    "collapsed": false
   },
   "id": "d6ff643a44c1c56f"
  },
  {
   "cell_type": "code",
   "execution_count": null,
   "outputs": [],
   "source": [
    "#inserting into a table\n",
    "data = [\n",
    "    {\n",
    "        'collection': 'dummycollection',\n",
    "        'name': 'dummy name',\n",
    "        'description': 'this is a dummy data insertion',\n",
    "        'image_url': 'NOT FOUND',\n",
    "        'owner': '0xa4518367eb30f0017f791763a98c6bd4b11e6a2c',\n",
    "        'twitter_username': 'NOT FOUND',\n",
    "        'contracts': [{'address': 'dummyaddress', 'chain': 'ethereum'}]\n",
    "    }\n",
    "]"
   ],
   "metadata": {
    "collapsed": false
   },
   "id": "27314db2c3b0d0ab"
  },
  {
   "cell_type": "code",
   "execution_count": null,
   "outputs": [],
   "source": [
    "db.insert_data(data)"
   ],
   "metadata": {
    "collapsed": false
   },
   "id": "f9c2fd8737aa6d45"
  },
  {
   "cell_type": "code",
   "execution_count": null,
   "outputs": [],
   "source": [
    "# retrieve the data \n",
    "query_result = db.retrieve_table_data(\"collections\",LIKE=(\"name\",'%dummy%'),order_by=\"id\")\n",
    "print(query_result)"
   ],
   "metadata": {
    "collapsed": false
   },
   "id": "e136a614896e4a9e"
  }
 ],
 "metadata": {
  "kernelspec": {
   "display_name": "Python 3",
   "language": "python",
   "name": "python3"
  },
  "language_info": {
   "codemirror_mode": {
    "name": "ipython",
    "version": 2
   },
   "file_extension": ".py",
   "mimetype": "text/x-python",
   "name": "python",
   "nbconvert_exporter": "python",
   "pygments_lexer": "ipython2",
   "version": "2.7.6"
  }
 },
 "nbformat": 4,
 "nbformat_minor": 5
}
